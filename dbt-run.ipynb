{
 "cells": [
  {
   "cell_type": "code",
   "execution_count": 1,
   "metadata": {},
   "outputs": [],
   "source": [
    "import os\n",
    "import orchest\n",
    "import yaml"
   ]
  },
  {
   "cell_type": "code",
   "execution_count": 2,
   "metadata": {},
   "outputs": [
    {
     "data": {
      "text/plain": [
       "{'name': 'postgres',\n",
       " 'image': 'postgres',\n",
       " 'command': '',\n",
       " 'env_variables': {'POSTGRES_DB': 'jaffle_shop',\n",
       "  'POSTGRES_HOST_AUTH_METHOD': 'trust'},\n",
       " 'env_variables_inherit': [],\n",
       " 'internal_hostname': 'internal-service-postgres-5c9a40f9-7b21ba4a',\n",
       " 'external_urls': {},\n",
       " 'base_paths': {}}"
      ]
     },
     "execution_count": 2,
     "metadata": {},
     "output_type": "execute_result"
    }
   ],
   "source": [
    "postgres_service = orchest.get_service(\"postgres\"); postgres_service "
   ]
  },
  {
   "cell_type": "code",
   "execution_count": 3,
   "metadata": {},
   "outputs": [],
   "source": [
    "with open('profiles.yml') as file:\n",
    "    # The FullLoader parameter handles the conversion from YAML\n",
    "    # scalar values to Python the dictionary format\n",
    "    dbt_profile = yaml.load(file, Loader=yaml.FullLoader)"
   ]
  },
  {
   "cell_type": "code",
   "execution_count": 4,
   "metadata": {},
   "outputs": [
    {
     "data": {
      "text/plain": [
       "{'jaffle_shop': {'target': 'dev',\n",
       "  'outputs': {'dev': {'type': 'postgres',\n",
       "    'host': '<host>',\n",
       "    'user': '<user>',\n",
       "    'password': '<password>',\n",
       "    'port': 5432,\n",
       "    'dbname': 'jaffle_shop',\n",
       "    'schema': 'dbt_alice',\n",
       "    'threads': 4}}}}"
      ]
     },
     "execution_count": 4,
     "metadata": {},
     "output_type": "execute_result"
    }
   ],
   "source": [
    "dbt_profile"
   ]
  },
  {
   "cell_type": "code",
   "execution_count": 5,
   "metadata": {},
   "outputs": [],
   "source": [
    "dbt_profile['jaffle_shop']['outputs']['dev']['host'] = postgres_service['internal_hostname']\n",
    "dbt_profile['jaffle_shop']['outputs']['dev']['user'] = 'postgres'\n",
    "dbt_profile['jaffle_shop']['outputs']['dev']['password'] = ''"
   ]
  },
  {
   "cell_type": "code",
   "execution_count": 6,
   "metadata": {},
   "outputs": [
    {
     "data": {
      "text/plain": [
       "{'jaffle_shop': {'target': 'dev',\n",
       "  'outputs': {'dev': {'type': 'postgres',\n",
       "    'host': 'internal-service-postgres-5c9a40f9-7b21ba4a',\n",
       "    'user': 'postgres',\n",
       "    'password': '',\n",
       "    'port': 5432,\n",
       "    'dbname': 'jaffle_shop',\n",
       "    'schema': 'dbt_alice',\n",
       "    'threads': 4}}}}"
      ]
     },
     "execution_count": 6,
     "metadata": {},
     "output_type": "execute_result"
    }
   ],
   "source": [
    "dbt_profile"
   ]
  },
  {
   "cell_type": "code",
   "execution_count": 7,
   "metadata": {},
   "outputs": [
    {
     "data": {
      "text/plain": [
       "'/home/jovyan/.dbt/profiles.yml'"
      ]
     },
     "execution_count": 7,
     "metadata": {},
     "output_type": "execute_result"
    }
   ],
   "source": [
    "dbt_profile_path = os.path.join(os.environ[\"HOME\"], \".dbt\", \"profiles.yml\"); dbt_profile_path"
   ]
  },
  {
   "cell_type": "code",
   "execution_count": 8,
   "metadata": {},
   "outputs": [],
   "source": [
    "os.makedirs(os.path.split(dbt_profile_path)[0], exist_ok=True)\n",
    "with open(dbt_profile_path, 'w') as fp:\n",
    "    yaml.dump(dbt_profile, fp)"
   ]
  },
  {
   "cell_type": "code",
   "execution_count": 9,
   "metadata": {},
   "outputs": [
    {
     "name": "stdout",
     "output_type": "stream",
     "text": [
      "13:27:17  Running with dbt=1.0.1\n",
      "dbt version: 1.0.1\n",
      "python version: 3.7.6\n",
      "python path: /opt/conda/bin/python3.7\n",
      "os info: Linux-5.4.0-92-generic-x86_64-with-debian-bullseye-sid\n",
      "Using profiles.yml file at /home/jovyan/.dbt/profiles.yml\n",
      "Using dbt_project.yml file at /project-dir/dbt_project.yml\n",
      "\n",
      "Configuration:\n",
      "  profiles.yml file [\u001b[32mOK found and valid\u001b[0m]\n",
      "  dbt_project.yml file [\u001b[32mOK found and valid\u001b[0m]\n",
      "\n",
      "Required dependencies:\n",
      " - git [\u001b[32mOK found\u001b[0m]\n",
      "\n",
      "Connection:\n",
      "  host: internal-service-postgres-5c9a40f9-7b21ba4a\n",
      "  port: 5432\n",
      "  user: postgres\n",
      "  database: jaffle_shop\n",
      "  schema: dbt_alice\n",
      "  search_path: None\n",
      "  keepalives_idle: 0\n",
      "  sslmode: None\n",
      "  Connection test: [\u001b[32mOK connection ok\u001b[0m]\n",
      "\n",
      "\u001b[32mAll checks passed!\u001b[0m\n",
      "\u001b[0m"
     ]
    }
   ],
   "source": [
    "!dbt debug"
   ]
  },
  {
   "cell_type": "code",
   "execution_count": 10,
   "metadata": {},
   "outputs": [
    {
     "name": "stdout",
     "output_type": "stream",
     "text": [
      "13:27:31  Running with dbt=1.0.1\n",
      "13:27:31  Partial parse save file not found. Starting full parse.\n",
      "13:27:32  Found 5 models, 20 tests, 0 snapshots, 0 analyses, 165 macros, 0 operations, 3 seed files, 0 sources, 0 exposures, 0 metrics\n",
      "13:27:32  \n",
      "13:27:32  Concurrency: 4 threads (target='dev')\n",
      "13:27:32  \n",
      "13:27:32  1 of 3 START seed file dbt_alice.raw_customers.................................. [RUN]\n",
      "13:27:32  2 of 3 START seed file dbt_alice.raw_orders..................................... [RUN]\n",
      "13:27:32  3 of 3 START seed file dbt_alice.raw_payments................................... [RUN]\n",
      "13:27:33  1 of 3 OK loaded seed file dbt_alice.raw_customers.............................. [\u001b[32mINSERT 100\u001b[0m in 0.85s]\n",
      "13:27:33  2 of 3 OK loaded seed file dbt_alice.raw_orders................................. [\u001b[32mINSERT 99\u001b[0m in 0.85s]\n",
      "13:27:33  3 of 3 OK loaded seed file dbt_alice.raw_payments............................... [\u001b[32mINSERT 113\u001b[0m in 0.85s]\n",
      "13:27:33  \n",
      "13:27:33  Finished running 3 seeds in 0.97s.\n",
      "13:27:33  \n",
      "13:27:33  \u001b[32mCompleted successfully\u001b[0m\n",
      "13:27:33  \n",
      "13:27:33  Done. PASS=3 WARN=0 ERROR=0 SKIP=0 TOTAL=3\n",
      "\u001b[0m"
     ]
    }
   ],
   "source": [
    "!dbt seed"
   ]
  },
  {
   "cell_type": "code",
   "execution_count": 11,
   "metadata": {},
   "outputs": [
    {
     "name": "stdout",
     "output_type": "stream",
     "text": [
      "13:27:41  Running with dbt=1.0.1\n",
      "13:27:41  Found 5 models, 20 tests, 0 snapshots, 0 analyses, 165 macros, 0 operations, 3 seed files, 0 sources, 0 exposures, 0 metrics\n",
      "13:27:41  \n",
      "13:27:41  Concurrency: 4 threads (target='dev')\n",
      "13:27:41  \n",
      "13:27:41  1 of 5 START view model dbt_alice.stg_customers................................. [RUN]\n",
      "13:27:41  2 of 5 START view model dbt_alice.stg_orders.................................... [RUN]\n",
      "13:27:41  3 of 5 START view model dbt_alice.stg_payments.................................. [RUN]\n",
      "13:27:41  2 of 5 OK created view model dbt_alice.stg_orders............................... [\u001b[32mCREATE VIEW\u001b[0m in 0.16s]\n",
      "13:27:41  3 of 5 OK created view model dbt_alice.stg_payments............................. [\u001b[32mCREATE VIEW\u001b[0m in 0.16s]\n",
      "13:27:41  1 of 5 OK created view model dbt_alice.stg_customers............................ [\u001b[32mCREATE VIEW\u001b[0m in 0.16s]\n",
      "13:27:41  4 of 5 START table model dbt_alice.orders....................................... [RUN]\n",
      "13:27:41  5 of 5 START table model dbt_alice.customers.................................... [RUN]\n",
      "13:27:41  5 of 5 OK created table model dbt_alice.customers............................... [\u001b[32mSELECT 100\u001b[0m in 0.11s]\n",
      "13:27:41  4 of 5 OK created table model dbt_alice.orders.................................. [\u001b[32mSELECT 99\u001b[0m in 0.11s]\n",
      "13:27:41  \n",
      "13:27:41  Finished running 3 view models, 2 table models in 0.42s.\n",
      "13:27:41  \n",
      "13:27:41  \u001b[32mCompleted successfully\u001b[0m\n",
      "13:27:41  \n",
      "13:27:41  Done. PASS=5 WARN=0 ERROR=0 SKIP=0 TOTAL=5\n",
      "\u001b[0m"
     ]
    }
   ],
   "source": [
    "!dbt run"
   ]
  }
 ],
 "metadata": {
  "kernelspec": {
   "display_name": "Python 3",
   "language": "python",
   "name": "orchest-kernel-b6661754-63e1-4e16-b2ed-1a0f0d50c58c"
  },
  "language_info": {
   "codemirror_mode": {
    "name": "ipython",
    "version": 3
   },
   "file_extension": ".py",
   "mimetype": "text/x-python",
   "name": "python",
   "nbconvert_exporter": "python",
   "pygments_lexer": "ipython3",
   "version": "3.7.6"
  }
 },
 "nbformat": 4,
 "nbformat_minor": 4
}
